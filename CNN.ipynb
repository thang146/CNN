{
  "nbformat": 4,
  "nbformat_minor": 0,
  "metadata": {
    "colab": {
      "name": "Bản sao của Untitled0.ipynb",
      "provenance": [],
      "collapsed_sections": [],
      "toc_visible": true,
      "include_colab_link": true
    },
    "kernelspec": {
      "display_name": "Python 3",
      "name": "python3"
    },
    "language_info": {
      "name": "python"
    }
  },
  "cells": [
    {
      "cell_type": "markdown",
      "metadata": {
        "id": "view-in-github",
        "colab_type": "text"
      },
      "source": [
        "<a href=\"https://colab.research.google.com/github/thang146/CNN/blob/main/CNN.ipynb\" target=\"_parent\"><img src=\"https://colab.research.google.com/assets/colab-badge.svg\" alt=\"Open In Colab\"/></a>"
      ]
    },
    {
      "cell_type": "code",
      "metadata": {
        "id": "WJDTJjJi_0dk"
      },
      "source": [
        "\n",
        "import numpy as np \n",
        "import matplotlib.pyplot as plt \n",
        "from pathlib import Path\n",
        "import os\n",
        "import cv2 \n",
        "import random\n",
        "import pickle\n",
        "import tensorflow as tf\n",
        "from tensorflow.keras.models import Sequential\n",
        "from tensorflow.keras.layers import Dense, Dropout, Activation, Flatten, Conv2D, MaxPool2D,AveragePooling2D,MaxPooling2D\n",
        "from tensorflow.keras.utils import to_categorical\n",
        "from sklearn.model_selection import train_test_split"
      ],
      "execution_count": null,
      "outputs": []
    },
    {
      "cell_type": "markdown",
      "metadata": {
        "id": "4_e7LZMgs5tA"
      },
      "source": [
        "# Mục mới"
      ]
    },
    {
      "cell_type": "markdown",
      "metadata": {
        "id": "_S0nZH-2oUwz"
      },
      "source": [
        ""
      ]
    },
    {
      "cell_type": "code",
      "metadata": {
        "colab": {
          "base_uri": "https://localhost:8080/"
        },
        "id": "LY8E0uqaAGSi",
        "outputId": "785b45ec-4295-4ccb-dd1d-fe42a24249f0"
      },
      "source": [
        "from google.colab import drive\n",
        "drive.mount('/content/drive')"
      ],
      "execution_count": null,
      "outputs": [
        {
          "output_type": "stream",
          "text": [
            "Drive already mounted at /content/drive; to attempt to forcibly remount, call drive.mount(\"/content/drive\", force_remount=True).\n"
          ],
          "name": "stdout"
        }
      ]
    },
    {
      "cell_type": "code",
      "metadata": {
        "id": "hgH7VKlYAUqk"
      },
      "source": [
        "# !cd \"/content/drive/MyDrive/Colab Notebooks\"\n",
        "# !unzip -u \"/content/dataset/Dataset_W3/Benign-20210404T163242Z-001.zip\" -d \"/content/drive/MyDrive/Dateset_W3\"\n",
        "# !unzip -u \"/content/dataset/Dataset_W3/InSitu-20210404T163243Z-001.zip\" -d \"/content/drive/MyDrive/Dateset_W3\"\n",
        "# !unzip -u \"/content/dataset/Dataset_W3/Invasive-20210404T163245Z-001.zip\" -d \"/content/drive/MyDrive/Dateset_W3\"\n",
        "# !unzip -u \"/content/dataset/Dataset_W3/Invasive-20210404T163245Z-002.zip\" -d \"/content/drive/MyDrive/Dateset_W3\"\n",
        "# !unzip -u \"/content/dataset/Dataset_W3/Normal-20210404T170641Z-001.zip\" -d \"/content/drive/MyDrive/Dateset_W3\"\n",
        "# !unzip -u \"/content/dataset/Dataset_W3/Normal-20210404T170641Z-002.zip\" -d \"/content/drive/MyDrive/Dateset_W3\"\n"
      ],
      "execution_count": null,
      "outputs": []
    },
    {
      "cell_type": "code",
      "metadata": {
        "id": "4U8x1ZHhBkJM"
      },
      "source": [
        "import numpy as np # Xử lý một số toán học\n",
        "import matplotlib.pyplot as plt # Thư viện đồ thị trực quan, hình ảnh,...\n",
        "import pathlib\n",
        "import os, sys\n",
        "import cv2 \n",
        "import random\n",
        "import pickle\n",
        "import tensorflow as tf\n",
        "from tensorflow.data import AUTOTUNE\n",
        "from tensorflow.keras import layers\n",
        "from tensorflow.keras.models import Sequential\n",
        "from tensorflow.keras.layers import Dense, Dropout, Activation, Flatten, Conv2D, MaxPool2D, AveragePooling2D\n",
        "from tensorflow.keras.utils import to_categorical\n",
        "from sklearn.model_selection import train_test_split"
      ],
      "execution_count": null,
      "outputs": []
    },
    {
      "cell_type": "code",
      "metadata": {
        "colab": {
          "base_uri": "https://localhost:8080/"
        },
        "id": "bI29cLHWBkay",
        "outputId": "31790bde-e09d-4894-ba57-178eb76df068"
      },
      "source": [
        "data_dir = \"/content/drive/MyDrive/Dateset_W3\"\n",
        "data_dir = Path(data_dir)\n",
        "categories = os.listdir(data_dir) \n",
        "number_classes = len(categories)\n",
        "print(categories)"
      ],
      "execution_count": null,
      "outputs": [
        {
          "output_type": "stream",
          "text": [
            "['Benign', 'InSitu', 'Invasive', 'Normal', '.ipynb_checkpoints']\n"
          ],
          "name": "stdout"
        }
      ]
    },
    {
      "cell_type": "code",
      "metadata": {
        "id": "ex6HVTdBBz9V"
      },
      "source": [
        "batch_size = 32\n",
        "img_height = 1536\n",
        "img_width = 2048\n",
        "scale_percent = 25\n",
        "width = int(img_width * scale_percent / 100)\n",
        "height = int(img_height * scale_percent / 100)\n",
        "dim = (width, height)\n"
      ],
      "execution_count": null,
      "outputs": []
    },
    {
      "cell_type": "code",
      "metadata": {
        "id": "Rblm10ODB4LJ"
      },
      "source": [
        "X = []\n",
        "y = []"
      ],
      "execution_count": null,
      "outputs": []
    },
    {
      "cell_type": "code",
      "metadata": {
        "colab": {
          "base_uri": "https://localhost:8080/"
        },
        "id": "VdGuCnn7B9uY",
        "outputId": "8e3f3819-d0fc-4cc8-e32f-098337d6687f"
      },
      "source": [
        "\n",
        "new_img_array = None\n",
        "def create_training_data():\n",
        "  for category in categories: \n",
        "\n",
        "    path = os.path.join(data_dir, category)  \n",
        "    print(path)\n",
        "    label_number = categories.index(category) \n",
        "    for img in os.listdir(path): \n",
        "      try:\n",
        "        img_array = cv2.imread(os.path.join(path, img), cv2.IMREAD_ANYCOLOR) \n",
        "        new_img_array = cv2.resize(img_array, dim, interpolation = cv2.INTER_AREA) \n",
        "        new_img_array = np.array(new_img_array)\n",
        "        X.append(new_img_array)  \n",
        "        y.append(label_number)  \n",
        "      except Exception as e:\n",
        "        pass\n",
        "    print(category + \" success!\")\n",
        "    \n",
        "create_training_data()\n"
      ],
      "execution_count": null,
      "outputs": [
        {
          "output_type": "stream",
          "text": [
            "/content/drive/MyDrive/Dateset_W3/Benign\n",
            "Benign success!\n",
            "/content/drive/MyDrive/Dateset_W3/InSitu\n",
            "InSitu success!\n",
            "/content/drive/MyDrive/Dateset_W3/Invasive\n",
            "Invasive success!\n",
            "/content/drive/MyDrive/Dateset_W3/Normal\n",
            "Normal success!\n",
            "/content/drive/MyDrive/Dateset_W3/.ipynb_checkpoints\n",
            ".ipynb_checkpoints success!\n"
          ],
          "name": "stdout"
        }
      ]
    },
    {
      "cell_type": "code",
      "metadata": {
        "id": "95TAy69oCBvE"
      },
      "source": [
        "# # Chạy 1 lần, thành công thì không chạy nữa\n",
        "pickle_out = open(\"/content/drive/MyDrive/cnn/X.pickle\", \"wb\")\n",
        "pickle.dump(X, pickle_out)\n",
        "pickle_out.close()"
      ],
      "execution_count": null,
      "outputs": []
    },
    {
      "cell_type": "code",
      "metadata": {
        "id": "iaHmuCAV5ZhS"
      },
      "source": [
        "# # Chạy 1 lần, thành công thì không chạy nữa\n",
        "pickle_out = open(\"/content/drive/MyDrive/cnn/y.pickle\", \"wb\")\n",
        "pickle.dump(y, pickle_out)\n",
        "pickle_out.close()"
      ],
      "execution_count": null,
      "outputs": []
    },
    {
      "cell_type": "code",
      "metadata": {
        "id": "PeQBBXyzCEv4"
      },
      "source": [
        "# Mỗi lần chạy mô hình thì chạy để load dữ liệu\n",
        "pickle_in = open(\"/content/drive/MyDrive/cnn/X.pickle\", \"rb\")\n",
        "X = pickle.load(pickle_in)\n",
        "pickle_in.close()\n",
        "\n",
        "pickle_in = open(\"/content/drive/MyDrive/cnn/y.pickle\", \"rb\")\n",
        "y = pickle.load(pickle_in)\n",
        "pickle_in.close()"
      ],
      "execution_count": null,
      "outputs": []
    },
    {
      "cell_type": "code",
      "metadata": {
        "id": "6G6A3hI1uHy5"
      },
      "source": [
        "X = np.array(X)"
      ],
      "execution_count": null,
      "outputs": []
    },
    {
      "cell_type": "code",
      "metadata": {
        "id": "S1sfgvWovSd2"
      },
      "source": [
        "X = X / 255"
      ],
      "execution_count": null,
      "outputs": []
    },
    {
      "cell_type": "code",
      "metadata": {
        "id": "T8me9OE4vTw9",
        "colab": {
          "base_uri": "https://localhost:8080/"
        },
        "outputId": "fe95bbe7-2294-427f-e69a-99d41ad15e8f"
      },
      "source": [
        "\n",
        "X.shape"
      ],
      "execution_count": null,
      "outputs": [
        {
          "output_type": "execute_result",
          "data": {
            "text/plain": [
              "(1159, 384, 512, 3)"
            ]
          },
          "metadata": {
            "tags": []
          },
          "execution_count": 16
        }
      ]
    },
    {
      "cell_type": "code",
      "metadata": {
        "id": "hTtFafmYCGea"
      },
      "source": [
        "X_train, X_test, y_train, y_test = train_test_split(X, y, test_size=0.2, random_state=42, shuffle=True)\n",
        "X = y = []\n",
        "X_train, X_val, y_train, y_val =  train_test_split(X_train, y_train, test_size=0.2, random_state=42)\n",
        "y_train = to_categorical(y_train) # one hot\n",
        "# ví dụ y_number = 1 thì y = [0. 1. 0.]\n",
        "y_t = y_test\n",
        "y_test = to_categorical(y_test)\n",
        "y_val = to_categorical(y_val)"
      ],
      "execution_count": null,
      "outputs": []
    },
    {
      "cell_type": "code",
      "metadata": {
        "id": "WQIvXW3nvcun",
        "colab": {
          "base_uri": "https://localhost:8080/",
          "height": 231
        },
        "outputId": "7344719f-4b3a-46bf-dfd3-c5abc300b47a"
      },
      "source": [
        "\n",
        "model = Sequential() \n",
        "\n",
        "model.add(Conv2D(filters=16, kernel_size=(3, 3), input_shape=X_train.shape[1:], padding=\"same\", activation=\"relu\"))\n",
        "model.add(AveragePooling2D(pool_size=(4, 4), strides=2))\n",
        "\n",
        "model.add(Conv2D(filters=32, kernel_size=(3, 3), activation=\"tanh\"))\n",
        "model.add(MaxPooling2D(pool_size=(2, 2), strides=2))\n",
        "\n",
        "model.add(Conv2D(filters=64, kernel_size=(3, 3), activation=\"selu\"))\n",
        "model.add(MaxPooling2D(pool_size=(2, 2), strides=2))\n",
        "\n",
        "model.add(Conv2D(filters=64, kernel_size=(3, 3), activation=\"selu\"))\n",
        "model.add(MaxPooling2D(pool_size=(2, 2), strides=2))\n",
        "\n",
        "model.add(Flatten())\n",
        "\n",
        "model.add(Dense(64))\n",
        "model.add(Activation(\"relu\"))\n",
        "\n",
        "model.add(Dense(number_classes))\n",
        "model.add(Activation(\"sigmoid\"))\n",
        "\n",
        "# categorical_crossentropy, Binary Cross Entropy\n",
        "model.compile(loss=\"categorical_crossentropy\", optimizer=\"adam\", metrics=[\"accuracy\"])\n",
        "model.summary() # xem chi tiết mô hình xây dựng của chính mình\n",
        "\n",
        "# Cuối cùng đào tạo nó\n",
        "history = model.fit(X_train, y_train, validation_data=(X_val, y_val), batch_size=32, epochs=25)"
      ],
      "execution_count": null,
      "outputs": [
        {
          "output_type": "error",
          "ename": "NameError",
          "evalue": "ignored",
          "traceback": [
            "\u001b[0;31m---------------------------------------------------------------------------\u001b[0m",
            "\u001b[0;31mNameError\u001b[0m                                 Traceback (most recent call last)",
            "\u001b[0;32m<ipython-input-6-9e540f0a93ef>\u001b[0m in \u001b[0;36m<module>\u001b[0;34m()\u001b[0m\n\u001b[1;32m      1\u001b[0m \u001b[0;34m\u001b[0m\u001b[0m\n\u001b[0;32m----> 2\u001b[0;31m \u001b[0mmodel\u001b[0m \u001b[0;34m=\u001b[0m \u001b[0mSequential\u001b[0m\u001b[0;34m(\u001b[0m\u001b[0;34m)\u001b[0m\u001b[0;34m\u001b[0m\u001b[0;34m\u001b[0m\u001b[0m\n\u001b[0m\u001b[1;32m      3\u001b[0m \u001b[0;34m\u001b[0m\u001b[0m\n\u001b[1;32m      4\u001b[0m \u001b[0mmodel\u001b[0m\u001b[0;34m.\u001b[0m\u001b[0madd\u001b[0m\u001b[0;34m(\u001b[0m\u001b[0mConv2D\u001b[0m\u001b[0;34m(\u001b[0m\u001b[0mfilters\u001b[0m\u001b[0;34m=\u001b[0m\u001b[0;36m16\u001b[0m\u001b[0;34m,\u001b[0m \u001b[0mkernel_size\u001b[0m\u001b[0;34m=\u001b[0m\u001b[0;34m(\u001b[0m\u001b[0;36m3\u001b[0m\u001b[0;34m,\u001b[0m \u001b[0;36m3\u001b[0m\u001b[0;34m)\u001b[0m\u001b[0;34m,\u001b[0m \u001b[0minput_shape\u001b[0m\u001b[0;34m=\u001b[0m\u001b[0mX_train\u001b[0m\u001b[0;34m.\u001b[0m\u001b[0mshape\u001b[0m\u001b[0;34m[\u001b[0m\u001b[0;36m1\u001b[0m\u001b[0;34m:\u001b[0m\u001b[0;34m]\u001b[0m\u001b[0;34m,\u001b[0m \u001b[0mpadding\u001b[0m\u001b[0;34m=\u001b[0m\u001b[0;34m\"same\"\u001b[0m\u001b[0;34m,\u001b[0m \u001b[0mactivation\u001b[0m\u001b[0;34m=\u001b[0m\u001b[0;34m\"relu\"\u001b[0m\u001b[0;34m)\u001b[0m\u001b[0;34m)\u001b[0m\u001b[0;34m\u001b[0m\u001b[0;34m\u001b[0m\u001b[0m\n\u001b[1;32m      5\u001b[0m \u001b[0mmodel\u001b[0m\u001b[0;34m.\u001b[0m\u001b[0madd\u001b[0m\u001b[0;34m(\u001b[0m\u001b[0mAveragePooling2D\u001b[0m\u001b[0;34m(\u001b[0m\u001b[0mpool_size\u001b[0m\u001b[0;34m=\u001b[0m\u001b[0;34m(\u001b[0m\u001b[0;36m4\u001b[0m\u001b[0;34m,\u001b[0m \u001b[0;36m4\u001b[0m\u001b[0;34m)\u001b[0m\u001b[0;34m,\u001b[0m \u001b[0mstrides\u001b[0m\u001b[0;34m=\u001b[0m\u001b[0;36m2\u001b[0m\u001b[0;34m)\u001b[0m\u001b[0;34m)\u001b[0m\u001b[0;34m\u001b[0m\u001b[0;34m\u001b[0m\u001b[0m\n",
            "\u001b[0;31mNameError\u001b[0m: name 'Sequential' is not defined"
          ]
        }
      ]
    },
    {
      "cell_type": "code",
      "metadata": {
        "id": "ApopYDPV599W"
      },
      "source": [
        "cd \"/content/drive/MyDrive/W3_CNN\"\n"
      ],
      "execution_count": null,
      "outputs": []
    },
    {
      "cell_type": "code",
      "metadata": {
        "id": "H1QeHvzTM2lL"
      },
      "source": [
        "mkdir -p saved_model\n"
      ],
      "execution_count": null,
      "outputs": []
    },
    {
      "cell_type": "code",
      "metadata": {
        "id": "oNW-1qslM7Th"
      },
      "source": [
        "model.save('saved_model/my_model')\n",
        "new_model = load_model('saved_model/my_model')\n",
        "\n",
        "new_model.summary()"
      ],
      "execution_count": null,
      "outputs": []
    },
    {
      "cell_type": "code",
      "metadata": {
        "id": "Ui8mLbjL6GAN"
      },
      "source": [
        "loss, acc = new_model.evaluate(X_test, y_test, verbose=2)\n",
        "print('Restored model, accuracy: {:5.2f}%'.format(100*acc))"
      ],
      "execution_count": null,
      "outputs": []
    }
  ]
}